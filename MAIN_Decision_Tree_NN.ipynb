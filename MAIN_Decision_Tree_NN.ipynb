{
 "cells": [
  {
   "cell_type": "code",
   "execution_count": 2,
   "metadata": {},
   "outputs": [
    {
     "name": "stdout",
     "output_type": "stream",
     "text": [
      "[[5.1 3.5 1.4 0.2]\n",
      " [4.9 3.  1.4 0.2]\n",
      " [4.7 3.2 1.3 0.2]\n",
      " [4.6 3.1 1.5 0.2]\n",
      " [5.  3.6 1.4 0.2]\n",
      " [5.4 3.9 1.7 0.4]\n",
      " [4.6 3.4 1.4 0.3]\n",
      " [5.  3.4 1.5 0.2]\n",
      " [4.4 2.9 1.4 0.2]\n",
      " [4.9 3.1 1.5 0.1]\n",
      " [5.4 3.7 1.5 0.2]\n",
      " [4.8 3.4 1.6 0.2]\n",
      " [4.8 3.  1.4 0.1]\n",
      " [4.3 3.  1.1 0.1]\n",
      " [5.8 4.  1.2 0.2]\n",
      " [5.7 4.4 1.5 0.4]\n",
      " [5.4 3.9 1.3 0.4]\n",
      " [5.1 3.5 1.4 0.3]\n",
      " [5.7 3.8 1.7 0.3]\n",
      " [5.1 3.8 1.5 0.3]\n",
      " [5.4 3.4 1.7 0.2]\n",
      " [5.1 3.7 1.5 0.4]\n",
      " [4.6 3.6 1.  0.2]\n",
      " [5.1 3.3 1.7 0.5]\n",
      " [4.8 3.4 1.9 0.2]\n",
      " [5.  3.  1.6 0.2]\n",
      " [5.  3.4 1.6 0.4]\n",
      " [5.2 3.5 1.5 0.2]\n",
      " [5.2 3.4 1.4 0.2]\n",
      " [4.7 3.2 1.6 0.2]\n",
      " [4.8 3.1 1.6 0.2]\n",
      " [5.4 3.4 1.5 0.4]\n",
      " [5.2 4.1 1.5 0.1]\n",
      " [5.5 4.2 1.4 0.2]\n",
      " [4.9 3.1 1.5 0.2]\n",
      " [5.  3.2 1.2 0.2]\n",
      " [5.5 3.5 1.3 0.2]\n",
      " [4.9 3.6 1.4 0.1]\n",
      " [4.4 3.  1.3 0.2]\n",
      " [5.1 3.4 1.5 0.2]\n",
      " [5.  3.5 1.3 0.3]\n",
      " [4.5 2.3 1.3 0.3]\n",
      " [4.4 3.2 1.3 0.2]\n",
      " [5.  3.5 1.6 0.6]\n",
      " [5.1 3.8 1.9 0.4]\n",
      " [4.8 3.  1.4 0.3]\n",
      " [5.1 3.8 1.6 0.2]\n",
      " [4.6 3.2 1.4 0.2]\n",
      " [5.3 3.7 1.5 0.2]\n",
      " [5.  3.3 1.4 0.2]\n",
      " [7.  3.2 4.7 1.4]\n",
      " [6.4 3.2 4.5 1.5]\n",
      " [6.9 3.1 4.9 1.5]\n",
      " [5.5 2.3 4.  1.3]\n",
      " [6.5 2.8 4.6 1.5]\n",
      " [5.7 2.8 4.5 1.3]\n",
      " [6.3 3.3 4.7 1.6]\n",
      " [4.9 2.4 3.3 1. ]\n",
      " [6.6 2.9 4.6 1.3]\n",
      " [5.2 2.7 3.9 1.4]\n",
      " [5.  2.  3.5 1. ]\n",
      " [5.9 3.  4.2 1.5]\n",
      " [6.  2.2 4.  1. ]\n",
      " [6.1 2.9 4.7 1.4]\n",
      " [5.6 2.9 3.6 1.3]\n",
      " [6.7 3.1 4.4 1.4]\n",
      " [5.6 3.  4.5 1.5]\n",
      " [5.8 2.7 4.1 1. ]\n",
      " [6.2 2.2 4.5 1.5]\n",
      " [5.6 2.5 3.9 1.1]\n",
      " [5.9 3.2 4.8 1.8]\n",
      " [6.1 2.8 4.  1.3]\n",
      " [6.3 2.5 4.9 1.5]\n",
      " [6.1 2.8 4.7 1.2]\n",
      " [6.4 2.9 4.3 1.3]\n",
      " [6.6 3.  4.4 1.4]\n",
      " [6.8 2.8 4.8 1.4]\n",
      " [6.7 3.  5.  1.7]\n",
      " [6.  2.9 4.5 1.5]\n",
      " [5.7 2.6 3.5 1. ]\n",
      " [5.5 2.4 3.8 1.1]\n",
      " [5.5 2.4 3.7 1. ]\n",
      " [5.8 2.7 3.9 1.2]\n",
      " [6.  2.7 5.1 1.6]\n",
      " [5.4 3.  4.5 1.5]\n",
      " [6.  3.4 4.5 1.6]\n",
      " [6.7 3.1 4.7 1.5]\n",
      " [6.3 2.3 4.4 1.3]\n",
      " [5.6 3.  4.1 1.3]\n",
      " [5.5 2.5 4.  1.3]\n",
      " [5.5 2.6 4.4 1.2]\n",
      " [6.1 3.  4.6 1.4]\n",
      " [5.8 2.6 4.  1.2]\n",
      " [5.  2.3 3.3 1. ]\n",
      " [5.6 2.7 4.2 1.3]\n",
      " [5.7 3.  4.2 1.2]\n",
      " [5.7 2.9 4.2 1.3]\n",
      " [6.2 2.9 4.3 1.3]\n",
      " [5.1 2.5 3.  1.1]\n",
      " [5.7 2.8 4.1 1.3]\n",
      " [6.3 3.3 6.  2.5]\n",
      " [5.8 2.7 5.1 1.9]\n",
      " [7.1 3.  5.9 2.1]\n",
      " [6.3 2.9 5.6 1.8]\n",
      " [6.5 3.  5.8 2.2]\n",
      " [7.6 3.  6.6 2.1]\n",
      " [4.9 2.5 4.5 1.7]\n",
      " [7.3 2.9 6.3 1.8]\n",
      " [6.7 2.5 5.8 1.8]\n",
      " [7.2 3.6 6.1 2.5]\n",
      " [6.5 3.2 5.1 2. ]\n",
      " [6.4 2.7 5.3 1.9]\n",
      " [6.8 3.  5.5 2.1]\n",
      " [5.7 2.5 5.  2. ]\n",
      " [5.8 2.8 5.1 2.4]\n",
      " [6.4 3.2 5.3 2.3]\n",
      " [6.5 3.  5.5 1.8]\n",
      " [7.7 3.8 6.7 2.2]\n",
      " [7.7 2.6 6.9 2.3]\n",
      " [6.  2.2 5.  1.5]\n",
      " [6.9 3.2 5.7 2.3]\n",
      " [5.6 2.8 4.9 2. ]\n",
      " [7.7 2.8 6.7 2. ]\n",
      " [6.3 2.7 4.9 1.8]\n",
      " [6.7 3.3 5.7 2.1]\n",
      " [7.2 3.2 6.  1.8]\n",
      " [6.2 2.8 4.8 1.8]\n",
      " [6.1 3.  4.9 1.8]\n",
      " [6.4 2.8 5.6 2.1]\n",
      " [7.2 3.  5.8 1.6]\n",
      " [7.4 2.8 6.1 1.9]\n",
      " [7.9 3.8 6.4 2. ]\n",
      " [6.4 2.8 5.6 2.2]\n",
      " [6.3 2.8 5.1 1.5]\n",
      " [6.1 2.6 5.6 1.4]\n",
      " [7.7 3.  6.1 2.3]\n",
      " [6.3 3.4 5.6 2.4]\n",
      " [6.4 3.1 5.5 1.8]\n",
      " [6.  3.  4.8 1.8]\n",
      " [6.9 3.1 5.4 2.1]\n",
      " [6.7 3.1 5.6 2.4]\n",
      " [6.9 3.1 5.1 2.3]\n",
      " [5.8 2.7 5.1 1.9]\n",
      " [6.8 3.2 5.9 2.3]\n",
      " [6.7 3.3 5.7 2.5]\n",
      " [6.7 3.  5.2 2.3]\n",
      " [6.3 2.5 5.  1.9]\n",
      " [6.5 3.  5.2 2. ]\n",
      " [6.2 3.4 5.4 2.3]\n",
      " [5.9 3.  5.1 1.8]]\n",
      "[0 0 0 0 0 0 0 0 0 0 0 0 0 0 0 0 0 0 0 0 0 0 0 0 0 0 0 0 0 0 0 0 0 0 0 0 0\n",
      " 0 0 0 0 0 0 0 0 0 0 0 0 0 1 1 1 1 1 1 1 1 1 1 1 1 1 1 1 1 1 1 1 1 1 1 1 1\n",
      " 1 1 1 1 1 1 1 1 1 1 1 1 1 1 1 1 1 1 1 1 1 1 1 1 1 1 2 2 2 2 2 2 2 2 2 2 2\n",
      " 2 2 2 2 2 2 2 2 2 2 2 2 2 2 2 2 2 2 2 2 2 2 2 2 2 2 2 2 2 2 2 2 2 2 2 2 2\n",
      " 2 2]\n",
      "['setosa' 'versicolor' 'virginica']\n",
      "['sepal length (cm)', 'sepal width (cm)', 'petal length (cm)', 'petal width (cm)']\n",
      ".. _iris_dataset:\n",
      "\n",
      "Iris plants dataset\n",
      "--------------------\n",
      "\n",
      "**Data Set Characteristics:**\n",
      "\n",
      "    :Number of Instances: 150 (50 in each of three classes)\n",
      "    :Number of Attributes: 4 numeric, predictive attributes and the class\n",
      "    :Attribute Information:\n",
      "        - sepal length in cm\n",
      "        - sepal width in cm\n",
      "        - petal length in cm\n",
      "        - petal width in cm\n",
      "        - class:\n",
      "                - Iris-Setosa\n",
      "                - Iris-Versicolour\n",
      "                - Iris-Virginica\n",
      "                \n",
      "    :Summary Statistics:\n",
      "\n",
      "    ============== ==== ==== ======= ===== ====================\n",
      "                    Min  Max   Mean    SD   Class Correlation\n",
      "    ============== ==== ==== ======= ===== ====================\n",
      "    sepal length:   4.3  7.9   5.84   0.83    0.7826\n",
      "    sepal width:    2.0  4.4   3.05   0.43   -0.4194\n",
      "    petal length:   1.0  6.9   3.76   1.76    0.9490  (high!)\n",
      "    petal width:    0.1  2.5   1.20   0.76    0.9565  (high!)\n",
      "    ============== ==== ==== ======= ===== ====================\n",
      "\n",
      "    :Missing Attribute Values: None\n",
      "    :Class Distribution: 33.3% for each of 3 classes.\n",
      "    :Creator: R.A. Fisher\n",
      "    :Donor: Michael Marshall (MARSHALL%PLU@io.arc.nasa.gov)\n",
      "    :Date: July, 1988\n",
      "\n",
      "The famous Iris database, first used by Sir R.A. Fisher. The dataset is taken\n",
      "from Fisher's paper. Note that it's the same as in R, but not as in the UCI\n",
      "Machine Learning Repository, which has two wrong data points.\n",
      "\n",
      "This is perhaps the best known database to be found in the\n",
      "pattern recognition literature.  Fisher's paper is a classic in the field and\n",
      "is referenced frequently to this day.  (See Duda & Hart, for example.)  The\n",
      "data set contains 3 classes of 50 instances each, where each class refers to a\n",
      "type of iris plant.  One class is linearly separable from the other 2; the\n",
      "latter are NOT linearly separable from each other.\n",
      "\n",
      ".. topic:: References\n",
      "\n",
      "   - Fisher, R.A. \"The use of multiple measurements in taxonomic problems\"\n",
      "     Annual Eugenics, 7, Part II, 179-188 (1936); also in \"Contributions to\n",
      "     Mathematical Statistics\" (John Wiley, NY, 1950).\n",
      "   - Duda, R.O., & Hart, P.E. (1973) Pattern Classification and Scene Analysis.\n",
      "     (Q327.D83) John Wiley & Sons.  ISBN 0-471-22361-1.  See page 218.\n",
      "   - Dasarathy, B.V. (1980) \"Nosing Around the Neighborhood: A New System\n",
      "     Structure and Classification Rule for Recognition in Partially Exposed\n",
      "     Environments\".  IEEE Transactions on Pattern Analysis and Machine\n",
      "     Intelligence, Vol. PAMI-2, No. 1, 67-71.\n",
      "   - Gates, G.W. (1972) \"The Reduced Nearest Neighbor Rule\".  IEEE Transactions\n",
      "     on Information Theory, May 1972, 431-433.\n",
      "   - See also: 1988 MLC Proceedings, 54-64.  Cheeseman et al\"s AUTOCLASS II\n",
      "     conceptual clustering system finds 3 classes in the data.\n",
      "   - Many, many more ...\n"
     ]
    }
   ],
   "source": [
    "from sklearn.datasets import load_iris #data are loaded\n",
    "irisData = load_iris() # Loading the data in irisData \n",
    "print(irisData.data) # The rows being the samples and the columns being: Sepal Length, Sepal Width, Petal Length and Petal Width.\n",
    "print(irisData.target) # Printing the 3 class \n",
    "print(irisData.target_names) # printing the 3 class name (setosa' 'versicolor' 'virginica)\n",
    "print(irisData.feature_names)\n",
    "print(irisData.DESCR) # DESCR prints the description of the dataset"
   ]
  },
  {
   "cell_type": "code",
   "execution_count": null,
   "metadata": {},
   "outputs": [],
   "source": [
    "## print(len(irisData.data)) # [1]\n",
    "help(len) # to quit the \"help\" press 'q'\n",
    "print(irisData.target_names[0]) # [2]\n",
    "print(irisData.target_names[2])\n",
    "print(irisData.target_names[-1])\n",
    "print(irisData.target_names[-1+len(irisData.target_names)]) # [3]\n",
    "print(irisData.data.shape) # [4]\n",
    "print(irisData.data.shape[0]) # [5]\n",
    "print(irisData.data[0]) # [6]\n",
    "print(irisData.data[0,1]) # same as irisData.data[0][1] but preferred in numpy\n",
    "# print(irisData.data[1:3,1])\n",
    "# print(irisData.data[:,1])"
   ]
  },
  {
   "cell_type": "markdown",
   "metadata": {},
   "source": [
    "[1]- prints the number of row of IRIS data (Sepal Length, Sepal Width, Petal Length and Petal Width)\n",
    "[2]- 0 represents the integers representing the species 'setosa', \n",
    "     1 represents the integers representing species 'versicolor', \n",
    "     2 represents the integers representing species 'virginica'\n",
    "[3]- (-1 + 3 = 2) 2 represents represents species 'virginica\n",
    "[4]- (150, 4) - check the shape of the features (first dimension = number of observations, second dimensions = number of      features)\n",
    "[5]- Prints the first value in array shape\n",
    "[6]- There is 150 rows. It prints the first row.\n"
   ]
  },
  {
   "cell_type": "code",
   "execution_count": 3,
   "metadata": {
    "scrolled": true
   },
   "outputs": [
    {
     "data": {
      "text/plain": [
       "<Figure size 640x480 with 1 Axes>"
      ]
     },
     "metadata": {},
     "output_type": "display_data"
    },
    {
     "data": {
      "text/plain": [
       "<Figure size 640x480 with 1 Axes>"
      ]
     },
     "metadata": {},
     "output_type": "display_data"
    }
   ],
   "source": [
    "from matplotlib import pyplot as plt # replace the name \"pyplot\" by \"plt\"\n",
    "X = irisData.data\n",
    "Y = irisData.target\n",
    "x = 0 # sepal length only\n",
    "y = 1 # sepal width only\n",
    "plt.scatter(X[:,x], X[:,y], c=Y) # [7]\n",
    "plt.savefig('fig1.png',dpi = 300) # saves the plot in the folder\n",
    "plt.show() # [8]\n",
    "plt.xlabel(irisData.feature_names[x])\n",
    "plt.ylabel(irisData.feature_names[y]) # [9]\n",
    "plt.scatter(X[:, x], X[:, y], c=Y)\n",
    "plt.savefig('fig2.png',dpi = 300) # saves the plot in the folder\n",
    "plt.show()"
   ]
  },
  {
   "cell_type": "markdown",
   "metadata": {},
   "source": [
    "[7] ploting the sepal length and sepal width of class data stored in X with respect to the class label stored in Y in a color sactter plot \n",
    "[8] creates a new graphic window for displaying the figures.\n",
    "[9] labelling the x and y axis ('0' is sepal length and '1' is sepal width)  \n"
   ]
  },
  {
   "cell_type": "markdown",
   "metadata": {},
   "source": [
    "The following code allows you to have slightly more control over the plotting. Execute the code and\n",
    "understand/explain what it does:"
   ]
  },
  {
   "cell_type": "code",
   "execution_count": 4,
   "metadata": {},
   "outputs": [
    {
     "name": "stdout",
     "output_type": "stream",
     "text": [
      "[ True  True  True  True  True  True  True  True  True  True  True  True\n",
      "  True  True  True  True  True  True  True  True  True  True  True  True\n",
      "  True  True  True  True  True  True  True  True  True  True  True  True\n",
      "  True  True  True  True  True  True  True  True  True  True  True  True\n",
      "  True  True False False False False False False False False False False\n",
      " False False False False False False False False False False False False\n",
      " False False False False False False False False False False False False\n",
      " False False False False False False False False False False False False\n",
      " False False False False False False False False False False False False\n",
      " False False False False False False False False False False False False\n",
      " False False False False False False False False False False False False\n",
      " False False False False False False False False False False False False\n",
      " False False False False False False]\n",
      "[[5.1 3.5 1.4 0.2]\n",
      " [4.9 3.  1.4 0.2]\n",
      " [4.7 3.2 1.3 0.2]\n",
      " [4.6 3.1 1.5 0.2]\n",
      " [5.  3.6 1.4 0.2]\n",
      " [5.4 3.9 1.7 0.4]\n",
      " [4.6 3.4 1.4 0.3]\n",
      " [5.  3.4 1.5 0.2]\n",
      " [4.4 2.9 1.4 0.2]\n",
      " [4.9 3.1 1.5 0.1]\n",
      " [5.4 3.7 1.5 0.2]\n",
      " [4.8 3.4 1.6 0.2]\n",
      " [4.8 3.  1.4 0.1]\n",
      " [4.3 3.  1.1 0.1]\n",
      " [5.8 4.  1.2 0.2]\n",
      " [5.7 4.4 1.5 0.4]\n",
      " [5.4 3.9 1.3 0.4]\n",
      " [5.1 3.5 1.4 0.3]\n",
      " [5.7 3.8 1.7 0.3]\n",
      " [5.1 3.8 1.5 0.3]\n",
      " [5.4 3.4 1.7 0.2]\n",
      " [5.1 3.7 1.5 0.4]\n",
      " [4.6 3.6 1.  0.2]\n",
      " [5.1 3.3 1.7 0.5]\n",
      " [4.8 3.4 1.9 0.2]\n",
      " [5.  3.  1.6 0.2]\n",
      " [5.  3.4 1.6 0.4]\n",
      " [5.2 3.5 1.5 0.2]\n",
      " [5.2 3.4 1.4 0.2]\n",
      " [4.7 3.2 1.6 0.2]\n",
      " [4.8 3.1 1.6 0.2]\n",
      " [5.4 3.4 1.5 0.4]\n",
      " [5.2 4.1 1.5 0.1]\n",
      " [5.5 4.2 1.4 0.2]\n",
      " [4.9 3.1 1.5 0.2]\n",
      " [5.  3.2 1.2 0.2]\n",
      " [5.5 3.5 1.3 0.2]\n",
      " [4.9 3.6 1.4 0.1]\n",
      " [4.4 3.  1.3 0.2]\n",
      " [5.1 3.4 1.5 0.2]\n",
      " [5.  3.5 1.3 0.3]\n",
      " [4.5 2.3 1.3 0.3]\n",
      " [4.4 3.2 1.3 0.2]\n",
      " [5.  3.5 1.6 0.6]\n",
      " [5.1 3.8 1.9 0.4]\n",
      " [4.8 3.  1.4 0.3]\n",
      " [5.1 3.8 1.6 0.2]\n",
      " [4.6 3.2 1.4 0.2]\n",
      " [5.3 3.7 1.5 0.2]\n",
      " [5.  3.3 1.4 0.2]]\n",
      "[5.1 4.9 4.7 4.6 5.  5.4 4.6 5.  4.4 4.9 5.4 4.8 4.8 4.3 5.8 5.7 5.4 5.1\n",
      " 5.7 5.1 5.4 5.1 4.6 5.1 4.8 5.  5.  5.2 5.2 4.7 4.8 5.4 5.2 5.5 4.9 5.\n",
      " 5.5 4.9 4.4 5.1 5.  4.5 4.4 5.  5.1 4.8 5.1 4.6 5.3 5. ]\n"
     ]
    },
    {
     "data": {
      "image/png": "[encoded data removed]",
      "text/plain": [
       "<Figure size 432x288 with 1 Axes>"
      ]
     },
     "metadata": {
      "needs_background": "light"
     },
     "output_type": "display_data"
    }
   ],
   "source": [
    "print(Y==0) # [10]\n",
    "print(X[Y==0]) # [11]\n",
    "print(X[Y==0][:, x]) # Considering all the first feature i.e. sepal length of the first class i.e.'setosa'\n",
    "plt.scatter(X[Y==0][:, x], X[Y==0][:, y], # [12]\n",
    "c=\"red\", label=irisData.target_names[0])\n",
    "plt.scatter(X[Y==1][:, x], X[Y==1][:, y],\n",
    "c=\"green\", label=irisData.target_names[1])\n",
    "plt.scatter(X[Y==2][:, x], X[Y==2][:, y],\n",
    "c=\"blue\", label=irisData.target_names[2])\n",
    "plt.legend() # [13]\n",
    "plt.savefig('fig3.png',dpi = 300) # saves the plot in the folder\n",
    "plt.show()"
   ]
  },
  {
   "cell_type": "markdown",
   "metadata": {},
   "source": [
    "[10] Y = only the first class is considered (TRUE) i.e. 'setosa'\n",
    "[11] All the values of first class ('setosa') i.e. 50 rows are printed is considered [y==0]\n",
    "[12] considering only the first class ('setosa') and plotting the corresponding sepal length in x-axis and sepal width in y-axis \n",
    "[13] Displays the color label of the corresponding class on the plot which is called legend"
   ]
  },
  {
   "cell_type": "code",
   "execution_count": 3,
   "metadata": {},
   "outputs": [],
   "source": [
    "import sys\n",
    "#import py2exe\n",
    "from sklearn.datasets import load_iris #data are loaded\n",
    "from matplotlib import pyplot as plt # replace the name \"pyplot\" by \"plt\"\n",
    "irisData = load_iris()\n",
    "X = irisData.data\n",
    "Y = irisData.target\n",
    "x = 0 # sepal length only\n",
    "y = 1 # sepal width only\n",
    "colors = [\"red\", \"green\", \"blue\"]\n",
    "for i in range(3):\n",
    "    plt.scatter(X[Y==i][:, x], X[Y==i][:,y], c=colors[i], label=irisData.target_names[i])\n",
    "plt.legend()\n",
    "plt.xlabel(irisData.feature_names[x])\n",
    "plt.ylabel(irisData.feature_names[y])\n",
    "plt.title(\"Iris Data - size of the sepals only\")\n",
    "if len(sys.argv) > 1:\n",
    "    plt.savefig(sys.argv[1], dpi = 300) #saving in 300 dpi \n",
    "else:\n",
    "    plt.show()"
   ]
  },
  {
   "cell_type": "markdown",
   "metadata": {},
   "source": [
    "Exercise 2: train/test, KNN classifier, IRIS"
   ]
  },
  {
   "cell_type": "code",
   "execution_count": 7,
   "metadata": {},
   "outputs": [
    {
     "name": "stdout",
     "output_type": "stream",
     "text": [
      "Help on method predict in module sklearn.neighbors.classification:\n",
      "\n",
      "predict(X) method of sklearn.neighbors.classification.KNeighborsClassifier instance\n",
      "    Predict the class labels for the provided data\n",
      "    \n",
      "    Parameters\n",
      "    ----------\n",
      "    X : array-like, shape (n_query, n_features),                 or (n_query, n_indexed) if metric == 'precomputed'\n",
      "        Test samples.\n",
      "    \n",
      "    Returns\n",
      "    -------\n",
      "    y : array of shape [n_samples] or [n_samples, n_outputs]\n",
      "        Class labels for each data sample.\n",
      "\n",
      "[0]\n",
      "[[1. 0. 0.]]\n",
      "0.9866666666666667\n",
      "[[6.  2.7 5.1 1.6]\n",
      " [4.9 2.5 4.5 1.7]]\n"
     ]
    }
   ],
   "source": [
    "from sklearn import neighbors\n",
    "nb_neighb = 15\n",
    "# help(neighbors.KNeighborsClassifier)\n",
    "clf = neighbors.KNeighborsClassifier(nb_neighb)\n",
    "#help(clf.fit)\n",
    "clf.fit(X, Y) # [1]\n",
    "# # ^ this obviously does not work if X and Y were not defined before\n",
    "help(clf.predict)\n",
    "print(clf.predict([[5.4, 3.2, 1.6, 0.4]])) # [2]\n",
    "print(clf.predict_proba([[ 5.4, 3.2, 1.6, 0.4]])) # [3]\n",
    "print(clf.score(X,Y)) # [4]\n",
    "Z = clf.predict(X) # [5]\n",
    "print(X[Z!=Y])"
   ]
  },
  {
   "cell_type": "markdown",
   "metadata": {},
   "source": [
    "[1]- fit method to fit the model(training) for the given train data X and train label y.\n",
    "n estimator is a rule for calculating an estimate of a given quantity based on observed data:\n",
    "[2] - sepal Length, Sepal Width, Petal Length and Petal Width are provided to predict which calss it belongs\n",
    "[3] - probablity of which class the given data (sepal Length, Sepal Width, Petal Length and Petal Width) is predicted\n",
    "[4] - It provides the prediction accuracy \n",
    "[5] - Returns the learned label for each object in the array. "
   ]
  },
  {
   "cell_type": "code",
   "execution_count": 20,
   "metadata": {},
   "outputs": [
    {
     "name": "stdout",
     "output_type": "stream",
     "text": [
      "(105, 4)\n",
      "(45, 4)\n",
      "(31, 4)\n",
      "(37, 4)\n",
      "(37, 4)\n",
      "[[19  0  0]\n",
      " [ 0 13  0]\n",
      " [ 0  1 12]]\n"
     ]
    }
   ],
   "source": [
    "from sklearn.model_selection import train_test_split\n",
    "import random \n",
    "X_train,X_test,Y_train,Y_test = train_test_split(X,Y, # [7]\n",
    "test_size=0.3,random_state=random.seed())\n",
    "print(X_train.shape) # [8]\n",
    "print(X_test.shape)\n",
    "print(X_train[Y_train==0].shape) # [9]\n",
    "print(X_train[Y_train==1].shape)\n",
    "print(X_train[Y_train==2].shape)\n",
    "clf = clf.fit(X_train, Y_train)\n",
    "Y_pred =clf.predict(X_test)\n",
    "from sklearn.metrics import confusion_matrix # [10]\n",
    "cm = confusion_matrix(Y_test, Y_pred)\n",
    "print(cm)"
   ]
  },
  {
   "cell_type": "markdown",
   "metadata": {},
   "source": [
    "[7] - test_size: Should be between 0.0 and 1.0 for float and represent the proportion of the dataset to include in the train split.\n",
    "random_state: for generating random numbers\n",
    "[8] - print training sample (105 sample and 4 class)\n",
    "[9] - print testing sample (45 sample and 4 class)\n",
    "[10] - Compute confusion matrix to evaluate the accuracy of a classification."
   ]
  },
  {
   "cell_type": "code",
   "execution_count": 26,
   "metadata": {},
   "outputs": [
    {
     "name": "stdout",
     "output_type": "stream",
     "text": [
      "app :  [ 50  51  52  53  54  55  56  57  58  59  60  61  62  63  64  65  66  67\n",
      "  68  69  70  71  72  73  74  75  76  77  78  79  80  81  82  83  84  85\n",
      "  86  87  88  89  90  91  92  93  94  95  96  97  98  99 100 101 102 103\n",
      " 104 105 106 107 108 109 110 111 112 113 114 115 116 117 118 119 120 121\n",
      " 122 123 124 125 126 127 128 129 130 131 132 133 134 135 136 137 138 139\n",
      " 140 141 142 143 144 145 146 147 148 149]  test  [ 0  1  2  3  4  5  6  7  8  9 10 11 12 13 14 15 16 17 18 19 20 21 22 23\n",
      " 24 25 26 27 28 29 30 31 32 33 34 35 36 37 38 39 40 41 42 43 44 45 46 47\n",
      " 48 49]\n",
      "app :  [  0   1   2   3   4   5   6   7   8   9  10  11  12  13  14  15  16  17\n",
      "  18  19  20  21  22  23  24  25  26  27  28  29  30  31  32  33  34  35\n",
      "  36  37  38  39  40  41  42  43  44  45  46  47  48  49 100 101 102 103\n",
      " 104 105 106 107 108 109 110 111 112 113 114 115 116 117 118 119 120 121\n",
      " 122 123 124 125 126 127 128 129 130 131 132 133 134 135 136 137 138 139\n",
      " 140 141 142 143 144 145 146 147 148 149]  test  [50 51 52 53 54 55 56 57 58 59 60 61 62 63 64 65 66 67 68 69 70 71 72 73\n",
      " 74 75 76 77 78 79 80 81 82 83 84 85 86 87 88 89 90 91 92 93 94 95 96 97\n",
      " 98 99]\n",
      "app :  [ 0  1  2  3  4  5  6  7  8  9 10 11 12 13 14 15 16 17 18 19 20 21 22 23\n",
      " 24 25 26 27 28 29 30 31 32 33 34 35 36 37 38 39 40 41 42 43 44 45 46 47\n",
      " 48 49 50 51 52 53 54 55 56 57 58 59 60 61 62 63 64 65 66 67 68 69 70 71\n",
      " 72 73 74 75 76 77 78 79 80 81 82 83 84 85 86 87 88 89 90 91 92 93 94 95\n",
      " 96 97 98 99]  test  [100 101 102 103 104 105 106 107 108 109 110 111 112 113 114 115 116 117\n",
      " 118 119 120 121 122 123 124 125 126 127 128 129 130 131 132 133 134 135\n",
      " 136 137 138 139 140 141 142 143 144 145 146 147 148 149]\n",
      "[1.0]\n",
      "best k: 1\n"
     ]
    }
   ],
   "source": [
    "from sklearn.model_selection import KFold\n",
    "kf = KFold(n_splits=3, shuffle=False)\n",
    "for learn,test in kf.split(X):\n",
    "    print(\"app : \", learn, \" test \", test)\n",
    "X = irisData.data\n",
    "Y = irisData.target\n",
    "kf = KFold(n_splits=10, shuffle=True)\n",
    "scores = []\n",
    "for k in range(1,30):\n",
    "    score = 0\n",
    "    clf = neighbors.KNeighborsClassifier(k)\n",
    "    for learn,test in kf.split(X):\n",
    "        X_train = X[learn]\n",
    "        Y_train = Y[learn]\n",
    "        clf.fit(X_train, Y_train)\n",
    "        X_test = X[test]\n",
    "        Y_test = Y[test]\n",
    "    score = score + clf.score(X_test, Y_test)\n",
    "scores.append(score)\n",
    "print(scores)\n",
    "print(\"best k:\", scores.index(max(scores))+1)"
   ]
  },
  {
   "cell_type": "markdown",
   "metadata": {},
   "source": [
    "[12] Try again using the parameter shuffle=False. What happened?\n",
    "     If shuffle is True, the whole data is first shuffled and then split into the K-Folds\n",
    "[13] What happen if you replace the line kf=KFold(n_splits=10, shuffle=True)\n",
    "by kf=KFold(n_splits=3, shuffle=False)?\n",
    " The data is splitted into 3 K-folds and the data is not shuffled before the split"
   ]
  },
  {
   "cell_type": "markdown",
   "metadata": {},
   "source": [
    "Exercise 3: Decision Trees on IRIS "
   ]
  },
  {
   "cell_type": "code",
   "execution_count": 32,
   "metadata": {},
   "outputs": [
    {
     "name": "stdout",
     "output_type": "stream",
     "text": [
      "[1]\n",
      "1.0\n"
     ]
    }
   ],
   "source": [
    "from sklearn.datasets import load_iris\n",
    "from sklearn import tree\n",
    "iris = load_iris()\n",
    "\n",
    "clf = tree.DecisionTreeClassifier() # [1]\n",
    "clf = clf.fit(iris.data, iris.target) # [2]\n",
    "print(clf.predict([iris.data[50,:]])) # [3]\n",
    "print(clf.score(iris.data, iris.target)) # [4]\n",
    "tree.export_graphviz(clf, out_file='tree.dot') #[5]"
   ]
  },
  {
   "cell_type": "markdown",
   "metadata": {},
   "source": [
    "[1] Classifier type is decision tree\n",
    "[2] clf (for classifier) estimator is first fitted to the model\n",
    "[3] classifier is priniting the predicted output of first 50 samples iris data \n",
    "[4] printing the accuracy score of the classifier on the given whole data (assume it is test data as only 50 sample are used before) and labels."
   ]
  },
  {
   "cell_type": "markdown",
   "metadata": {},
   "source": [
    "Write a program pract1prog3.py which opens the IRIS dataset and trains a decision tree\n",
    "using the default parameters. Visualize this tree. How many leaves does it contain? Start the\n",
    "training phase again by gradually decreasing the number of leaves from 9 to 3 using the parameter\n",
    "in clf = tree.DecisionTreeClassifier(max_leaf_nodes=xx) and observe (and describe) the\n",
    "resulting trees."
   ]
  },
  {
   "cell_type": "code",
   "execution_count": 38,
   "metadata": {},
   "outputs": [
    {
     "name": "stdout",
     "output_type": "stream",
     "text": [
      "[1]\n",
      "0.9733333333333334\n",
      "[1]\n",
      "0.9733333333333334\n",
      "[1]\n",
      "0.9733333333333334\n",
      "[1]\n",
      "0.9733333333333334\n",
      "[1]\n",
      "0.9733333333333334\n",
      "[1]\n",
      "0.9733333333333334\n",
      "[1]\n",
      "0.96\n"
     ]
    },
    {
     "data": {
      "image/png": "[encoded data removed]",
      "text/plain": [
       "<Figure size 432x288 with 1 Axes>"
      ]
     },
     "metadata": {
      "needs_background": "light"
     },
     "output_type": "display_data"
    }
   ],
   "source": [
    "from sklearn.datasets import load_iris\n",
    "from sklearn import tree\n",
    "import graphviz \n",
    "iris = load_iris()\n",
    "\n",
    "for i in range(9,2,-1):\n",
    "    clf = tree.DecisionTreeClassifier(criterion=\"entropy\", max_depth=3, max_leaf_nodes=i)\n",
    "    clf = clf.fit(iris.data, iris.target)\n",
    "    print(clf.predict([iris.data[50,:]]))\n",
    "    print(clf.score(iris.data, iris.target))\n",
    "    tree.plot_tree(clf,max_depth = 3 )"
   ]
  },
  {
   "cell_type": "markdown",
   "metadata": {},
   "source": [
    "As it can be seen fom the graph there are, three leave nodes."
   ]
  },
  {
   "cell_type": "markdown",
   "metadata": {},
   "source": [
    "Write a program pract1prog4.py which opens the IRIS dataset and trains a decision tree using\n",
    "the Gini criterion (in gini-iris.dot) and a second one using the entropy (in entropy-iris.dot).\n",
    "Compare the two trees"
   ]
  },
  {
   "cell_type": "code",
   "execution_count": 73,
   "metadata": {},
   "outputs": [
    {
     "name": "stdout",
     "output_type": "stream",
     "text": [
      "[1]\n",
      "0.9733333333333334\n"
     ]
    },
    {
     "data": {
      "image/png": "[encoded data removed]",
      "text/plain": [
       "<Figure size 432x288 with 1 Axes>"
      ]
     },
     "metadata": {
      "needs_background": "light"
     },
     "output_type": "display_data"
    }
   ],
   "source": [
    "from sklearn.datasets import load_iris\n",
    "from sklearn import tree\n",
    "iris = load_iris()\n",
    "clf = tree.DecisionTreeClassifier(criterion=\"gini\", max_depth=3, max_leaf_nodes=5)\n",
    "clf = clf.fit(iris.data, iris.target)\n",
    "print(clf.predict([iris.data[50,:]]))\n",
    "print(clf.score(iris.data, iris.target))\n",
    "tree.plot_tree(clf)\n",
    "plt.savefig('tree1.png',dpi = 70) # saves the plot in the folder"
   ]
  },
  {
   "cell_type": "code",
   "execution_count": 55,
   "metadata": {},
   "outputs": [
    {
     "name": "stdout",
     "output_type": "stream",
     "text": [
      "[1]\n",
      "0.9733333333333334\n"
     ]
    },
    {
     "data": {
      "image/png": "[encoded data removed]",
      "text/plain": [
       "<Figure size 432x288 with 1 Axes>"
      ]
     },
     "metadata": {
      "needs_background": "light"
     },
     "output_type": "display_data"
    }
   ],
   "source": [
    "from sklearn.datasets import load_iris\n",
    "from sklearn import tree\n",
    "iris = load_iris()\n",
    "clf = tree.DecisionTreeClassifier(criterion=\"entropy\", max_depth=3, max_leaf_nodes=5)\n",
    "clf = clf.fit(iris.data, iris.target)\n",
    "print(clf.predict([iris.data[50,:]]))\n",
    "print(clf.score(iris.data, iris.target))\n",
    "tree.plot_tree(clf)\n",
    "plt.savefig('tree2.png',dpi = 70) # saves the plot in the folder"
   ]
  },
  {
   "cell_type": "markdown",
   "metadata": {},
   "source": [
    "Both the trees has same number of leaves and same prediction score. The main difference between the 'gini' measure how often a randomly chosen element from the set would be incorrectly labeled and the entropy of a node (consist of single class) is zero because the probability is 1 and log (1) = 0. Entropy reaches maximum value when all classes in the node have equal probability."
   ]
  },
  {
   "cell_type": "markdown",
   "metadata": {},
   "source": [
    "Write a program pract1prog5.py which creates a dataset using the command X,Y = make_classification(n_samples=100000,n_features=20,n_informative=15,n_classes=3),\n",
    "split the generated data into a learning set and a test set (30% for test). Learn a decision tree on the\n",
    "learning set using the command clf = tree.DecisionTreeClassifier(max_leaf_nodes=500*i)\n",
    "(where “i” varies from 1 to 20) then print the score of the classifier (note that print(\"%6.4f\" %x)\n",
    "prints a floating point number “x”, at least six characters wide, with four characters after the\n",
    "decimal point) on the learning AND on the test set. What do you notice? What is the name of\n",
    "the observed phenomenon?"
   ]
  },
  {
   "cell_type": "code",
   "execution_count": 49,
   "metadata": {},
   "outputs": [
    {
     "name": "stdout",
     "output_type": "stream",
     "text": [
      "[2]\n",
      "0.8105\n",
      "[2]\n",
      "0.8256666666666667\n",
      "[2]\n",
      "0.8294666666666667\n",
      "[2]\n",
      "0.8284666666666667\n",
      "[2]\n",
      "0.8289\n",
      "[2]\n",
      "0.8285333333333333\n",
      "[2]\n",
      "0.8247666666666666\n",
      "[2]\n",
      "0.8213666666666667\n",
      "[2]\n",
      "0.8207666666666666\n",
      "[2]\n",
      "0.8184333333333333\n",
      "[2]\n",
      "0.8166333333333333\n",
      "[2]\n",
      "0.8151333333333334\n",
      "[2]\n",
      "0.8103\n",
      "[2]\n",
      "0.8071666666666667\n",
      "[2]\n",
      "0.8091333333333334\n",
      "[2]\n",
      "0.8085\n",
      "[2]\n",
      "0.8073333333333333\n",
      "[2]\n",
      "0.8072\n",
      "[2]\n",
      "0.8068\n",
      "[2]\n",
      "0.8078333333333333\n"
     ]
    },
    {
     "data": {
      "image/png": "[encoded data removed]",
      "text/plain": [
       "<Figure size 432x288 with 1 Axes>"
      ]
     },
     "metadata": {
      "needs_background": "light"
     },
     "output_type": "display_data"
    }
   ],
   "source": [
    "from sklearn.datasets import make_classification\n",
    "from sklearn import tree\n",
    "from sklearn.model_selection import train_test_split\n",
    "import random \n",
    "X,Y = make_classification(n_samples=100000,n_features=20,n_informative=15,n_classes=3)\n",
    "X_train,X_test,Y_train,Y_test = train_test_split(X,Y,test_size=0.3,random_state=random.seed())   \n",
    "for i in range(1,21):\n",
    "    clf = tree.DecisionTreeClassifier(max_leaf_nodes=500*i)\n",
    "    clf = clf.fit(X_train,Y_train)\n",
    "    print(clf.predict([X_train[50,:]]))\n",
    "    print(clf.score(X_test,Y_test))\n",
    "    tree.plot_tree(clf,max_depth = 3)"
   ]
  },
  {
   "cell_type": "code",
   "execution_count": null,
   "metadata": {},
   "outputs": [],
   "source": [
    "The observed phenemenon is known as bell curve which comprising of three classes."
   ]
  },
  {
   "cell_type": "markdown",
   "metadata": {},
   "source": [
    "Now with trees of different depth using the command clf = tree.DecisionTreeClassifier(max_depth=i) (for i from 1 to 40)"
   ]
  },
  {
   "cell_type": "code",
   "execution_count": 45,
   "metadata": {},
   "outputs": [
    {
     "name": "stdout",
     "output_type": "stream",
     "text": [
      "[0]\n",
      "0.45245\n",
      "[2]\n",
      "0.52594\n",
      "[0]\n",
      "0.58959\n",
      "[2]\n",
      "0.63316\n",
      "[2]\n",
      "0.678\n",
      "[2]\n",
      "0.70552\n",
      "[2]\n",
      "0.74511\n",
      "[2]\n",
      "0.78058\n",
      "[2]\n",
      "0.81063\n",
      "[2]\n",
      "0.83974\n",
      "[2]\n",
      "0.86759\n",
      "[2]\n",
      "0.89453\n",
      "[2]\n",
      "0.91871\n",
      "[2]\n",
      "0.93892\n",
      "[2]\n",
      "0.95473\n",
      "[2]\n",
      "0.9675\n",
      "[2]\n",
      "0.97656\n",
      "[2]\n",
      "0.9831\n",
      "[2]\n",
      "0.98793\n",
      "[2]\n",
      "0.99148\n",
      "[2]\n",
      "0.99405\n",
      "[2]\n",
      "0.99603\n",
      "[2]\n",
      "0.99725\n",
      "[2]\n",
      "0.9981\n",
      "[2]\n",
      "0.99876\n",
      "[2]\n",
      "0.99918\n",
      "[2]\n",
      "0.99947\n",
      "[2]\n",
      "0.99966\n",
      "[2]\n",
      "0.9997\n",
      "[2]\n",
      "0.9998\n",
      "[2]\n",
      "0.99991\n",
      "[2]\n",
      "0.99995\n",
      "[2]\n",
      "0.99997\n",
      "[2]\n",
      "0.99998\n",
      "[2]\n",
      "0.99999\n",
      "[2]\n",
      "1.0\n",
      "[2]\n",
      "1.0\n",
      "[2]\n",
      "1.0\n",
      "[2]\n",
      "1.0\n",
      "[2]\n",
      "1.0\n"
     ]
    },
    {
     "data": {
      "image/png": "[encoded data removed]",
      "text/plain": [
       "<Figure size 432x288 with 1 Axes>"
      ]
     },
     "metadata": {
      "needs_background": "light"
     },
     "output_type": "display_data"
    }
   ],
   "source": [
    "from sklearn.datasets import make_classification\n",
    "from sklearn import tree\n",
    "from sklearn.model_selection import train_test_split\n",
    "import random \n",
    "X,Y = make_classification(n_samples=100000,n_features=20,n_informative=15,n_classes=3)\n",
    "for i in range(1,41):\n",
    "    clf = tree.DecisionTreeClassifier(max_depth=i)\n",
    "    clf = clf.fit(X,Y)\n",
    "    print(clf.predict([X[50,:]]))\n",
    "    print(clf.score(X,Y))\n",
    "    tree.plot_tree(clf,max_depth = 3 )"
   ]
  },
  {
   "cell_type": "markdown",
   "metadata": {},
   "source": [
    "Exercise 4: Raw MXNet gradient descent"
   ]
  },
  {
   "cell_type": "code",
   "execution_count": 2,
   "metadata": {},
   "outputs": [],
   "source": [
    "import numpy as np\n",
    "from mxnet import autograd, nd\n",
    "from matplotlib import pyplot as plt"
   ]
  },
  {
   "cell_type": "code",
   "execution_count": 3,
   "metadata": {},
   "outputs": [
    {
     "data": {
      "image/png": "[encoded data removed]",
      "text/plain": [
       "<Figure size 432x288 with 1 Axes>"
      ]
     },
     "metadata": {
      "needs_background": "light"
     },
     "output_type": "display_data"
    }
   ],
   "source": [
    "x = nd.array([0.0, 2, 8, 10])\n",
    "y = nd.array([0.0, 0, 1, 1])\n",
    "a = nd.array([3.0])\n",
    "b = nd.array([-1.0])\n",
    "def plot_model(show=True):\n",
    "    xs = np.linspace(-2, 12, 101)\n",
    "    ys = (1 + np.exp(-(a.asnumpy() * xs**2 + b.asnumpy())) )**-1\n",
    "    plt.plot(xs, ys)\n",
    "    plt.scatter(x.asnumpy(), y.asnumpy())\n",
    "    plt.grid()\n",
    "    if show:\n",
    "        plt.savefig('plot1.png',dpi = 700) # saves the plot in the folder\n",
    "        plt.show()\n",
    "plot_model()"
   ]
  },
  {
   "cell_type": "code",
   "execution_count": 4,
   "metadata": {},
   "outputs": [
    {
     "data": {
      "image/png": "[encoded data removed]",
      "text/plain": [
       "<Figure size 432x288 with 1 Axes>"
      ]
     },
     "metadata": {
      "needs_background": "light"
     },
     "output_type": "display_data"
    }
   ],
   "source": [
    "def loss_nll(o, y, nd=nd): return -nd.log(o+.00001)*y - (1-y)*nd.log(1-o+0.00001)\n",
    "def loss_ae(o, y, nd=nd): return nd.abs(o - y)\n",
    "loss_f,  gamma = loss_nll, 0.01\n",
    "#loss_f,  = loss_ae, .5\n",
    "a.attach_grad()\n",
    "b.attach_grad()\n",
    "history_para = []\n",
    "history_loss = []\n",
    "def do_iter(gamma = gamma):\n",
    "    global a, b\n",
    "    #ind = np.random.uniform(0, 1, y.shape)\n",
    "    #ind = nd.array(np.where( ind<ind.min()+0.01 ))\n",
    "    #minix = x[ind]\n",
    "    #miniy = y[ind]\n",
    "    minix = x\n",
    "    miniy = y\n",
    "    with autograd.record():\n",
    "        p = minix**2\n",
    "        s = a*p + b\n",
    "        o = (1 + nd.exp(-s))**-1\n",
    "        loss = nd.sum(loss_f(o, miniy))\n",
    "    loss.backward()\n",
    "    #print(loss, a.grad, b.grad)\n",
    "    history_para.append([a.asnumpy(), b.asnumpy()])\n",
    "    history_loss.append(loss.asnumpy())\n",
    "    a -= gamma* a.grad\n",
    "    b -= gamma* b.grad\n",
    "for j in range(20):\n",
    "    for i in range(10):\n",
    "        do_iter()\n",
    "    plot_model(False)\n",
    "plt.savefig('plot2.png',dpi = 700) # saves the plot in the folder\n",
    "plt.show()"
   ]
  },
  {
   "cell_type": "code",
   "execution_count": 5,
   "metadata": {},
   "outputs": [
    {
     "data": {
      "image/png": "[encoded data removed]",
      "text/plain": [
       "<Figure size 432x288 with 1 Axes>"
      ]
     },
     "metadata": {
      "needs_background": "light"
     },
     "output_type": "display_data"
    },
    {
     "data": {
      "image/png": "[encoded data removed]",
      "text/plain": [
       "<Figure size 432x288 with 1 Axes>"
      ]
     },
     "metadata": {
      "needs_background": "light"
     },
     "output_type": "display_data"
    }
   ],
   "source": [
    "for j in range(30):\n",
    "    for i in range(10):\n",
    "        do_iter()\n",
    "    plot_model(False)\n",
    "plt.savefig('plot3.png',dpi = 700) # saves the plot in the folder\n",
    "plt.show()\n",
    "\n",
    "plt.plot(history_loss)\n",
    "plt.savefig('plot4.png',dpi = 700) # saves the plot in the folder\n",
    "plt.show()"
   ]
  },
  {
   "cell_type": "code",
   "execution_count": 6,
   "metadata": {},
   "outputs": [],
   "source": [
    "def parameter_space(x=x, y=y, scatter=False, name='L'):\n",
    "    a = np.linspace(-1.001, 5, 101)\n",
    "    b = np.linspace(-7, 1, 201)\n",
    "    xx = x.asnumpy()\n",
    "    # numpy broadcasting trick\n",
    "    a = a[ : , None, None]\n",
    "    b = b[None, : , None]\n",
    "    xx = xx[None, None, : ]\n",
    "    #\n",
    "    pred = (1 + np.exp(-( a*xx**2 + b )))**-1\n",
    "    yy = y.asnumpy()[None,None,:]\n",
    "    o = np.sum(loss_f(pred, yy, nd=np), axis=2 )\n",
    "    #\n",
    "    o = np.transpose(o[:,::-1])\n",
    "    ext = [np.min(a), np.max(a), np.min(b), np.max(b)]\n",
    "    plt.xlabel(\"a\")\n",
    "    plt.ylabel(\"b\")\n",
    "    plt.title(name+\"(a,b)\")\n",
    "    plt.imshow(o, extent=ext)\n",
    "    plt.contour(o[::-1,:], extent=ext)\n",
    "    if scatter:\n",
    "        h = np.array(history_para)\n",
    "        plt.scatter(h[:, 0], h[:, 1], c='r', marker='.')"
   ]
  },
  {
   "cell_type": "code",
   "execution_count": 7,
   "metadata": {},
   "outputs": [
    {
     "data": {
      "text/plain": [
       "<Figure size 1152x288 with 0 Axes>"
      ]
     },
     "execution_count": 7,
     "metadata": {},
     "output_type": "execute_result"
    },
    {
     "data": {
      "image/png": "[encoded data removed]",
      "text/plain": [
       "<Figure size 576x576 with 1 Axes>"
      ]
     },
     "metadata": {
      "needs_background": "light"
     },
     "output_type": "display_data"
    },
    {
     "data": {
      "text/plain": [
       "<Figure size 1152x288 with 0 Axes>"
      ]
     },
     "metadata": {},
     "output_type": "display_data"
    }
   ],
   "source": [
    "plt.figure(figsize=(8, 8))\n",
    "parameter_space(scatter=True)\n",
    "plt.savefig('plot5.png',dpi = 700) # saves the plot in the folder\n",
    "plt.figure(figsize=(16, 4))"
   ]
  },
  {
   "cell_type": "code",
   "execution_count": 8,
   "metadata": {},
   "outputs": [
    {
     "data": {
      "text/plain": [
       "<Figure size 1152x1152 with 0 Axes>"
      ]
     },
     "execution_count": 8,
     "metadata": {},
     "output_type": "execute_result"
    },
    {
     "data": {
      "image/png": "[encoded data removed]",
      "text/plain": [
       "<Figure size 432x288 with 4 Axes>"
      ]
     },
     "metadata": {
      "needs_background": "light"
     },
     "output_type": "display_data"
    },
    {
     "data": {
      "text/plain": [
       "<Figure size 1152x1152 with 0 Axes>"
      ]
     },
     "metadata": {},
     "output_type": "display_data"
    }
   ],
   "source": [
    "for i in range(len(x)):\n",
    "    plt.subplot(1, len(x), i+1)\n",
    "    parameter_space(x=x[i:i+1], y=y[i:i+1], name=\"L\"+str(i), scatter=True)\n",
    "plt.savefig('plot6.png',dpi = 700) # saves the plot in the folder    \n",
    "plt.figure(figsize=(16, 16))"
   ]
  },
  {
   "cell_type": "code",
   "execution_count": 15,
   "metadata": {},
   "outputs": [
    {
     "data": {
      "image/png": "[encoded data removed]",
      "text/plain": [
       "<Figure size 432x288 with 16 Axes>"
      ]
     },
     "metadata": {
      "needs_background": "light"
     },
     "output_type": "display_data"
    }
   ],
   "source": [
    "for i in range(len(x)):\n",
    "    for j in range(len(x)):\n",
    "        plt.subplot(len(x), len(x), j*len(x)+i+1)\n",
    "        parameter_space(x=x[[i,j]], y=y[[i,j]], name='L'+str(i)+str(j))\n",
    "plt.savefig('plot7.png',dpi = 700) # saves the plot in the folder\n"
   ]
  },
  {
   "cell_type": "markdown",
   "metadata": {},
   "source": [
    "Exercise 5: Using MXNet helpers"
   ]
  },
  {
   "cell_type": "code",
   "execution_count": 51,
   "metadata": {},
   "outputs": [],
   "source": [
    "import numpy as np\n",
    "import mxnet as mx\n",
    "from mxnet import nd, autograd, gluon\n",
    "def tr(x,y):\n",
    "    tx = x.reshape(-1).astype(np.float32)/255\n",
    "    ty = y.astype(np.float32)\n",
    "    return tx, ty\n",
    "train_d = gluon.data.DataLoader(gluon.data.vision.MNIST(train=True, transform=tr), 32, shuffle=True)\n",
    "test_d = gluon.data.DataLoader(gluon.data.vision.MNIST(train=False, transform=tr), 64)\n",
    "#### -------- model and loss definition\n",
    "net = gluon.nn.Sequential() # simple composition\n",
    "with net.name_scope():\n",
    "    net.add(gluon.nn.Dense(40, activation='relu'))\n",
    "    net.add(gluon.nn.Dense(30, activation='relu'))\n",
    "    net.add(gluon.nn.Dense(10)) # end with the number of classes\n",
    "    softmax_cross_entropy = gluon.loss.SoftmaxCrossEntropyLoss()\n",
    "\n",
    "#### -------- initialization and optimizer configuration\n",
    "net.collect_params().initialize(mx.init.Normal(sigma=.1))\n",
    "\n",
    "trainer = gluon.Trainer(net.collect_params(), 'sgd',  {'learning_rate': .01})"
   ]
  },
  {
   "cell_type": "code",
   "execution_count": 52,
   "metadata": {},
   "outputs": [],
   "source": [
    "#### -------- define the 'evaluate_accuracy' function\n",
    "def ey(data_iterator, net):\n",
    "    acc = mx.metric.Accuracy()\n",
    "    for i, (data, label) in enumerate(data_iterator):\n",
    "        if i > 200: break # do not do full epochs (faster experiments)\n",
    "        output = net(data)\n",
    "        predictions = nd.argmax(output, axis=1)\n",
    "        acc.update(preds=predictions, labels=label)\n",
    "    return acc.get()[1]"
   ]
  },
  {
   "cell_type": "code",
   "execution_count": 50,
   "metadata": {},
   "outputs": [
    {
     "name": "stdout",
     "output_type": "stream",
     "text": [
      "Epoch 0. Train_acc 0.8526119402985075, Test_acc 0.8637\n",
      "Epoch 1. Train_acc 0.8952114427860697, Test_acc 0.8977\n",
      "Epoch 2. Train_acc 0.9090485074626866, Test_acc 0.9105\n",
      "Epoch 3. Train_acc 0.9171330845771144, Test_acc 0.9159\n",
      "Epoch 4. Train_acc 0.9255286069651741, Test_acc 0.9243\n",
      "Epoch 5. Train_acc 0.9319029850746269, Test_acc 0.9324\n",
      "Epoch 6. Train_acc 0.9396766169154229, Test_acc 0.937\n",
      "Epoch 7. Train_acc 0.9448072139303483, Test_acc 0.9394\n",
      "Epoch 8. Train_acc 0.9451181592039801, Test_acc 0.9426\n",
      "Epoch 9. Train_acc 0.9466728855721394, Test_acc 0.9464\n",
      "Epoch 10. Train_acc 0.9536691542288557, Test_acc 0.9489\n",
      "Epoch 11. Train_acc 0.9510261194029851, Test_acc 0.9494\n",
      "Epoch 12. Train_acc 0.9597325870646766, Test_acc 0.9517\n",
      "Epoch 13. Train_acc 0.9617537313432836, Test_acc 0.9544\n",
      "Epoch 14. Train_acc 0.9620646766169154, Test_acc 0.9552\n"
     ]
    }
   ],
   "source": [
    "#### -------- Learning loop\n",
    "epochs = 15\n",
    "for e in range(epochs):\n",
    "    ## -------- minibatch gradient descent\n",
    "    for i, (data, label) in enumerate(train_d):\n",
    "        with autograd.record():\n",
    "            loss = softmax_cross_entropy(net(data), label)\n",
    "        loss.backward()\n",
    "        ## one gradient step\n",
    "        trainer.step(data.shape[0])\n",
    "    ## -------- measure accuracy\n",
    "    test_accuracy = evaluate_accuracy(test_d, net)\n",
    "    train_accuracy = evaluate_accuracy(train_d, net)\n",
    "    print(f\"Epoch {e}. Train_acc {train_accuracy}, Test_acc {test_accuracy}\")"
   ]
  },
  {
   "cell_type": "code",
   "execution_count": 53,
   "metadata": {},
   "outputs": [
    {
     "name": "stdout",
     "output_type": "stream",
     "text": [
      "\n",
      "[[0. 0. 0. 0. 0. 0. 0. 0. 0. 0.]]\n",
      "<NDArray 1x10 @cpu(0)>\n",
      "\n",
      "[[-0.08978283 -1.0708313  -0.58149725 -0.21581271 -0.9881941  -1.4944808\n",
      "   0.27213123 -0.6732897  -0.02326849  0.3755998 ]]\n",
      "<NDArray 1x10 @cpu(0)>\n",
      "\n",
      "[[-0.04489142 -0.53541565 -0.29074863 -0.10790636 -0.49409705 -0.7472404\n",
      "   0.13606562 -0.33664486 -0.01163425  0.1877999 ]]\n",
      "<NDArray 1x10 @cpu(0)>\n",
      "\n",
      "[[ 0.07145044 -0.5146667  -0.43791085 -0.12876417 -0.47909287 -0.83273274\n",
      "   0.24657579 -0.38283873 -0.06154777  0.19326267]]\n",
      "<NDArray 1x10 @cpu(0)>\n",
      "\n",
      "[[ 0.08852431 -0.4578337  -0.30317622  0.02552657 -0.7034813  -0.7077927\n",
      "   0.16315301 -0.42728823 -0.16126621  0.10541163]]\n",
      "<NDArray 1x10 @cpu(0)>\n",
      "\n",
      "[[-0.04738976 -0.3587848  -0.03986944  0.02447704 -0.42014372 -0.46660516\n",
      "   0.0896076  -0.27309072 -0.0239044   0.03182079]]\n",
      "<NDArray 1x10 @cpu(0)>\n"
     ]
    }
   ],
   "source": [
    "print( net(nd.zeros((1,784))) )\n",
    "print( net(nd.ones((1,784))) )\n",
    "print( net(0.5*nd.ones((1,784))) )\n",
    "print( net(nd.random.uniform(0, 1, (1,784))) )\n",
    "print( net(nd.random.uniform(0, 1, (1,784))) )\n",
    "print( net(nd.random.uniform(0, 1, (1,784))) )"
   ]
  },
  {
   "cell_type": "code",
   "execution_count": 57,
   "metadata": {},
   "outputs": [],
   "source": [
    "# with more layer to increase the depth\n",
    "import numpy as np\n",
    "import mxnet as mx\n",
    "from mxnet import nd, autograd, gluon\n",
    "def tr(x,y):\n",
    "    tx = x.reshape(-1).astype(np.float32)/255\n",
    "    ty = y.astype(np.float32)\n",
    "    return tx, ty\n",
    "train_d = gluon.data.DataLoader(gluon.data.vision.MNIST(train=True, transform=tr), 32, shuffle=True)\n",
    "test_d = gluon.data.DataLoader(gluon.data.vision.MNIST(train=False, transform=tr), 64)\n",
    "#### -------- model and loss definition\n",
    "net = gluon.nn.Sequential() # simple composition\n",
    "with net.name_scope():\n",
    "    net.add(gluon.nn.Dense(40, activation='relu'))\n",
    "    net.add(gluon.nn.Dense(30, activation='relu'))\n",
    "    net.add(gluon.nn.Dense(30, activation='relu'))\n",
    "    net.add(gluon.nn.Dense(30, activation='relu'))\n",
    "    net.add(gluon.nn.Dense(10)) # end with the number of classes\n",
    "    softmax_cross_entropy = gluon.loss.SoftmaxCrossEntropyLoss()\n",
    "\n",
    "#### -------- initialization and optimizer configuration\n",
    "net.collect_params().initialize(mx.init.Normal(sigma=.1))\n",
    "\n",
    "trainer = gluon.Trainer(net.collect_params(), 'sgd',  {'learning_rate': .01})"
   ]
  },
  {
   "cell_type": "code",
   "execution_count": 58,
   "metadata": {},
   "outputs": [],
   "source": [
    "#### -------- define the 'evaluate_accuracy' function\n",
    "def ey(data_iterator, net):\n",
    "    acc = mx.metric.Accuracy()\n",
    "    for i, (data, label) in enumerate(data_iterator):\n",
    "        if i > 200: break # do not do full epochs (faster experiments)\n",
    "        output = net(data)\n",
    "        predictions = nd.argmax(output, axis=1)\n",
    "        acc.update(preds=predictions, labels=label)\n",
    "    return acc.get()[1]"
   ]
  },
  {
   "cell_type": "code",
   "execution_count": 56,
   "metadata": {},
   "outputs": [
    {
     "name": "stdout",
     "output_type": "stream",
     "text": [
      "Epoch 0. Train_acc 0.5698072139303483, Test_acc 0.5753\n",
      "Epoch 1. Train_acc 0.8257151741293532, Test_acc 0.8379\n",
      "Epoch 2. Train_acc 0.8791977611940298, Test_acc 0.881\n",
      "Epoch 3. Train_acc 0.9081156716417911, Test_acc 0.9009\n",
      "Epoch 4. Train_acc 0.9183768656716418, Test_acc 0.9142\n",
      "Epoch 5. Train_acc 0.9261504975124378, Test_acc 0.9245\n",
      "Epoch 6. Train_acc 0.9392101990049752, Test_acc 0.9325\n",
      "Epoch 7. Train_acc 0.9401430348258707, Test_acc 0.9393\n",
      "Epoch 8. Train_acc 0.9392101990049752, Test_acc 0.9393\n",
      "Epoch 9. Train_acc 0.9513370646766169, Test_acc 0.9442\n",
      "Epoch 10. Train_acc 0.9474502487562189, Test_acc 0.9454\n",
      "Epoch 11. Train_acc 0.957089552238806, Test_acc 0.952\n",
      "Epoch 12. Train_acc 0.9603544776119403, Test_acc 0.9532\n",
      "Epoch 13. Train_acc 0.9623756218905473, Test_acc 0.9531\n",
      "Epoch 14. Train_acc 0.9597325870646766, Test_acc 0.9541\n"
     ]
    }
   ],
   "source": [
    "#### -------- Learning loop\n",
    "epochs = 15\n",
    "for e in range(epochs):\n",
    "    ## -------- minibatch gradient descent\n",
    "    for i, (data, label) in enumerate(train_d):\n",
    "        with autograd.record():\n",
    "            loss = softmax_cross_entropy(net(data), label)\n",
    "        loss.backward()\n",
    "        ## one gradient step\n",
    "        trainer.step(data.shape[0])\n",
    "    ## -------- measure accuracy\n",
    "    test_accuracy = evaluate_accuracy(test_d, net)\n",
    "    train_accuracy = evaluate_accuracy(train_d, net)\n",
    "    print(f\"Epoch {e}. Train_acc {train_accuracy}, Test_acc {test_accuracy}\")"
   ]
  },
  {
   "cell_type": "code",
   "execution_count": 59,
   "metadata": {},
   "outputs": [
    {
     "name": "stdout",
     "output_type": "stream",
     "text": [
      "\n",
      "[[0. 0. 0. 0. 0. 0. 0. 0. 0. 0.]]\n",
      "<NDArray 1x10 @cpu(0)>\n",
      "\n",
      "[[-0.03690738 -0.04844625 -0.04776043 -0.08003124  0.08639599 -0.01169944\n",
      "  -0.19163182 -0.14749618 -0.05091338  0.05718785]]\n",
      "<NDArray 1x10 @cpu(0)>\n",
      "\n",
      "[[-0.01845369 -0.02422313 -0.02388022 -0.04001562  0.043198   -0.00584972\n",
      "  -0.09581591 -0.07374809 -0.02545669  0.02859393]]\n",
      "<NDArray 1x10 @cpu(0)>\n",
      "\n",
      "[[-0.045254   -0.03072578  0.00066957 -0.03851975  0.02763176  0.01330285\n",
      "  -0.07858533 -0.07471002 -0.02611696  0.06543138]]\n",
      "<NDArray 1x10 @cpu(0)>\n",
      "\n",
      "[[-0.03061052 -0.02599258 -0.0002902  -0.04206822  0.04594943 -0.00527956\n",
      "  -0.09905638 -0.09175744 -0.02031903  0.03714356]]\n",
      "<NDArray 1x10 @cpu(0)>\n",
      "\n",
      "[[-0.01853192 -0.01586647 -0.01071943 -0.02963737  0.04006767 -0.00710603\n",
      "  -0.07523915 -0.08909271 -0.00760246  0.02099575]]\n",
      "<NDArray 1x10 @cpu(0)>\n"
     ]
    }
   ],
   "source": [
    "print( net(nd.zeros((1,784))) )\n",
    "print( net(nd.ones((1,784))) )\n",
    "print( net(0.5*nd.ones((1,784))) )\n",
    "print( net(nd.random.uniform(0, 1, (1,784))) )\n",
    "print( net(nd.random.uniform(0, 1, (1,784))) )\n",
    "print( net(nd.random.uniform(0, 1, (1,784))) )"
   ]
  },
  {
   "cell_type": "markdown",
   "metadata": {},
   "source": [
    "It is observed that making the network more denser by adding more layer takes more training time. But it is difficult to comment on the accuracy as the model needs to be executed several time to estimate an average accuracy."
   ]
  },
  {
   "cell_type": "code",
   "execution_count": 60,
   "metadata": {},
   "outputs": [
    {
     "data": {
      "image/png": "[encoded data removed]",
      "text/plain": [
       "<Figure size 288x288 with 1 Axes>"
      ]
     },
     "metadata": {
      "needs_background": "light"
     },
     "output_type": "display_data"
    },
    {
     "name": "stdout",
     "output_type": "stream",
     "text": [
      "178\n"
     ]
    }
   ],
   "source": [
    "from sklearn.datasets import load_digits\n",
    "digits = load_digits()\n",
    "digits.data[0]\n",
    "digits.images[0]\n",
    "digits.data[0].reshape(8,8)\n",
    "digits.target[0]\n",
    "# you can see the pictures using this piece of code:\n",
    "from matplotlib import pyplot as plt\n",
    "plt.matshow(digits.images[0])\n",
    "plt.gray()\n",
    "plt.show()\n",
    "#to count the number of examples of a particular class, you can use:\n",
    "Y=digits.target\n",
    "print(len(Y[Y==0]))"
   ]
  },
  {
   "cell_type": "code",
   "execution_count": 63,
   "metadata": {},
   "outputs": [
    {
     "data": {
      "text/plain": [
       "MLPClassifier(activation='relu', alpha=1e-05, batch_size='auto', beta_1=0.9,\n",
       "              beta_2=0.999, early_stopping=False, epsilon=1e-08,\n",
       "              hidden_layer_sizes=(5, 2), learning_rate='constant',\n",
       "              learning_rate_init=0.001, max_iter=200, momentum=0.9,\n",
       "              n_iter_no_change=10, nesterovs_momentum=True, power_t=0.5,\n",
       "              random_state=1, shuffle=True, solver='lbfgs', tol=0.0001,\n",
       "              validation_fraction=0.1, verbose=False, warm_start=False)"
      ]
     },
     "execution_count": 63,
     "metadata": {},
     "output_type": "execute_result"
    }
   ],
   "source": [
    "from sklearn.neural_network import MLPClassifier\n",
    "X = digits.data\n",
    "clf = MLPClassifier(solver='lbfgs', alpha=1e-5,hidden_layer_sizes=(5, 2),random_state=1)\n",
    "clf.fit(X, Y)"
   ]
  },
  {
   "cell_type": "markdown",
   "metadata": {},
   "source": [
    "Write a program pract1prog7.py which opens the DIGITS dataset and train a MLP using the\n",
    "default parameters and a small number of hidden layers. Split the data into a learning set and a test\n",
    "set (30% for test) and report the score obtained by your classifier on the test set. Run your program\n",
    "multiple times with the same parameters. Change at least 3 parameters of your classifier (ex: number\n",
    "of neurons, number of layers, learning rate) and report the score your obtain on your test set for each\n",
    "version. What can you conclude?"
   ]
  },
  {
   "cell_type": "code",
   "execution_count": 64,
   "metadata": {},
   "outputs": [
    {
     "data": {
      "image/png": "[encoded data removed]",
      "text/plain": [
       "<Figure size 288x288 with 1 Axes>"
      ]
     },
     "metadata": {
      "needs_background": "light"
     },
     "output_type": "display_data"
    },
    {
     "name": "stdout",
     "output_type": "stream",
     "text": [
      "118\n",
      "[3]\n",
      "0.4925925925925926\n"
     ]
    }
   ],
   "source": [
    "from sklearn.datasets import load_digits\n",
    "digits = load_digits()\n",
    "from sklearn.model_selection import train_test_split\n",
    "import random\n",
    "dgtX_train,dgtX_test,dgtY_train,dgtY_test = train_test_split(digits.data,digits.target,test_size=0.3,random_state=random.seed())\n",
    "from matplotlib import pyplot as plt\n",
    "plt.matshow(digits.images[0])\n",
    "plt.gray()\n",
    "plt.show()\n",
    "Y=dgtY_train\n",
    "print(len(Y[Y==0]))\n",
    "from sklearn.neural_network import MLPClassifier\n",
    "X = dgtX_train\n",
    "clf = MLPClassifier(solver='lbfgs', alpha=1e-5,hidden_layer_sizes=(5, 2),random_state=1)\n",
    "clf = MLPClassifier(solver='lbfgs', alpha=1e-5,hidden_layer_sizes=(5,20),learning_rate= 'adaptive')\n",
    "clf.fit(X, Y)\n",
    "print(clf.predict([X[500,:]]))\n",
    "print(clf.score(dgtX_test, dgtY_test))"
   ]
  },
  {
   "cell_type": "code",
   "execution_count": 8,
   "metadata": {},
   "outputs": [
    {
     "data": {
      "image/png": "[encoded data removed]",
      "text/plain": [
       "<Figure size 288x288 with 1 Axes>"
      ]
     },
     "metadata": {
      "needs_background": "light"
     },
     "output_type": "display_data"
    },
    {
     "name": "stdout",
     "output_type": "stream",
     "text": [
      "117\n",
      "[1]\n",
      "0.8870370370370371\n"
     ]
    },
    {
     "name": "stderr",
     "output_type": "stream",
     "text": [
      "C:\\Users\\Subhankar Chattoraj\\Anaconda3\\lib\\site-packages\\sklearn\\neural_network\\multilayer_perceptron.py:566: ConvergenceWarning: Stochastic Optimizer: Maximum iterations (200) reached and the optimization hasn't converged yet.\n",
      "  % self.max_iter, ConvergenceWarning)\n"
     ]
    }
   ],
   "source": [
    "from sklearn.datasets import load_digits\n",
    "digits = load_digits()\n",
    "from sklearn.model_selection import train_test_split\n",
    "import random\n",
    "dgtX_train,dgtX_test,dgtY_train,dgtY_test = train_test_split(digits.data,digits.target,test_size=0.3,random_state=random.seed())\n",
    "from matplotlib import pyplot as plt\n",
    "plt.matshow(digits.images[0])\n",
    "plt.gray()\n",
    "plt.show()\n",
    "Y=dgtY_train\n",
    "print(len(Y[Y==0]))\n",
    "from sklearn.neural_network import MLPClassifier\n",
    "X = dgtX_train\n",
    "clf = MLPClassifier(solver='sgd', alpha=1e-5,hidden_layer_sizes=(10, 4),random_state=1)\n",
    "clf = MLPClassifier(solver='sgd', alpha=1e-5,hidden_layer_sizes=(10,20),learning_rate= 'adaptive')\n",
    "clf.fit(X, Y)\n",
    "print(clf.predict([X[500,:]]))\n",
    "print(clf.score(dgtX_test, dgtY_test))"
   ]
  },
  {
   "cell_type": "code",
   "execution_count": 9,
   "metadata": {},
   "outputs": [
    {
     "data": {
      "image/png": "[encoded data removed]",
      "text/plain": [
       "<Figure size 288x288 with 1 Axes>"
      ]
     },
     "metadata": {
      "needs_background": "light"
     },
     "output_type": "display_data"
    },
    {
     "name": "stdout",
     "output_type": "stream",
     "text": [
      "130\n",
      "[6]\n",
      "0.9537037037037037\n"
     ]
    }
   ],
   "source": [
    "from sklearn.datasets import load_digits\n",
    "digits = load_digits()\n",
    "from sklearn.model_selection import train_test_split\n",
    "import random\n",
    "dgtX_train,dgtX_test,dgtY_train,dgtY_test = train_test_split(digits.data,digits.target,test_size=0.3,random_state=random.seed())\n",
    "from matplotlib import pyplot as plt\n",
    "plt.matshow(digits.images[0])\n",
    "plt.gray()\n",
    "plt.show()\n",
    "Y=dgtY_train\n",
    "print(len(Y[Y==0]))\n",
    "from sklearn.neural_network import MLPClassifier\n",
    "X = dgtX_train\n",
    "clf = MLPClassifier(solver='adam', alpha=1e-5,hidden_layer_sizes=(20, 8),random_state=1)\n",
    "clf = MLPClassifier(solver='adam', alpha=1e-5,hidden_layer_sizes=(30,20),learning_rate= 'adaptive')\n",
    "clf.fit(X, Y)\n",
    "print(clf.predict([X[500,:]]))\n",
    "print(clf.score(dgtX_test, dgtY_test))"
   ]
  },
  {
   "cell_type": "markdown",
   "metadata": {},
   "source": [
    "It can be observed that using 'lbfg' accuracy sore of 0.49 is achieved but swith increase in hidden layer size \n",
    "and changing the solver from 'lbfgs' to 'sgd' the accuracy score in enhanced to 0.88 although it does not converge \n",
    "to optimnal but from further enhancement of hidden layer and changing the solver to 'adam' it converge to optimal and \n",
    "an accuracy score of 0.95 is computed"
   ]
  }
 ],
 "metadata": {
  "kernelspec": {
   "display_name": "Python 3",
   "language": "python",
   "name": "python3"
  },
  "language_info": {
   "codemirror_mode": {
    "name": "ipython",
    "version": 3
   },
   "file_extension": ".py",
   "mimetype": "text/x-python",
   "name": "python",
   "nbconvert_exporter": "python",
   "pygments_lexer": "ipython3",
   "version": "3.7.3"
  }
 },
 "nbformat": 4,
 "nbformat_minor": 2
}
